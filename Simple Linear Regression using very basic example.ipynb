{
 "cells": [
  {
   "cell_type": "markdown",
   "metadata": {},
   "source": [
    "## Simple Linear Regression using very basic example"
   ]
  },
  {
   "cell_type": "code",
   "execution_count": 1,
   "metadata": {},
   "outputs": [],
   "source": [
    "import numpy as np\n",
    "import pandas as pd\n",
    "import matplotlib.pyplot as plt\n",
    "import sklearn\n",
    "\n",
    "from pylab import rcParams\n",
    "from sklearn.linear_model import LinearRegression\n",
    "from sklearn.preprocessing import scale"
   ]
  },
  {
   "cell_type": "code",
   "execution_count": 3,
   "metadata": {},
   "outputs": [],
   "source": [
    "%matplotlib inline\n",
    "rcParams['figure.figsize']=10,8"
   ]
  },
  {
   "cell_type": "markdown",
   "metadata": {},
   "source": [
    "####  Lets create some synthetic data in order to do a linear regression. Let's create a variable called rooms and we're going to set rooms equal to two times a set of random numbers."
   ]
  },
  {
   "cell_type": "code",
   "execution_count": 6,
   "metadata": {},
   "outputs": [
    {
     "data": {
      "text/plain": [
       "array([[3.59857319],\n",
       "       [3.40012952],\n",
       "       [5.37430612],\n",
       "       [3.6544953 ],\n",
       "       [0.8052607 ],\n",
       "       [0.75400624],\n",
       "       [1.20107702],\n",
       "       [4.9783979 ],\n",
       "       [2.57734076]])"
      ]
     },
     "execution_count": 6,
     "metadata": {},
     "output_type": "execute_result"
    }
   ],
   "source": [
    "rooms =2*np.random.randn(100,1)+3 #equation using to create random values in rooms field,no of rooms in a home\n",
    "rooms[1:10] #number will be diff for each peaople since we are not setting seed for random number generating"
   ]
  },
  {
   "cell_type": "code",
   "execution_count": 8,
   "metadata": {},
   "outputs": [
    {
     "data": {
      "text/plain": [
       "array([[287.31871748],\n",
       "       [285.63637668],\n",
       "       [298.3404134 ],\n",
       "       [288.59973221],\n",
       "       [269.90250483],\n",
       "       [270.56777944],\n",
       "       [273.39169647],\n",
       "       [294.92235976],\n",
       "       [281.02100855]])"
      ]
     },
     "execution_count": 8,
     "metadata": {},
     "output_type": "execute_result"
    }
   ],
   "source": [
    "price = 265 + 6* rooms +abs(np.random.randn(100,1)) \n",
    "price[1:10]"
   ]
  },
  {
   "cell_type": "markdown",
   "metadata": {},
   "source": [
    "#### creating  a scatter plot of rooms and price"
   ]
  },
  {
   "cell_type": "code",
   "execution_count": 13,
   "metadata": {},
   "outputs": [
    {
     "data": {
      "image/png": "[encoded data removed]",
      "text/plain": [
       "<Figure size 720x576 with 1 Axes>"
      ]
     },
     "metadata": {
      "needs_background": "light"
     },
     "output_type": "display_data"
    }
   ],
   "source": [
    "plt.plot(rooms,price,'r^') #r^ for generating point plot instead of line ploy\n",
    "plt.xlabel(\"no of rooms 2020 avg\")\n",
    "plt.ylabel(\"2020 avg home price in lakhs\")\n",
    "plt.title(\"Rooms vs Home price\")\n",
    "plt.show()"
   ]
  },
  {
   "cell_type": "markdown",
   "metadata": {},
   "source": [
    "##### By analysing the plot, The house price increases as the number of rooms increase"
   ]
  },
  {
   "cell_type": "markdown",
   "metadata": {},
   "source": [
    "#### Lets use Linear Regression,rooms as predictors ,X = rooms. We are going to predict for the price, So Y =price"
   ]
  },
  {
   "cell_type": "code",
   "execution_count": 14,
   "metadata": {},
   "outputs": [
    {
     "name": "stdout",
     "output_type": "stream",
     "text": [
      "[265.79842088] [[5.99925157]]\n"
     ]
    }
   ],
   "source": [
    "X =rooms\n",
    "y = price\n",
    "LinReg = LinearRegression()\n",
    "LinReg.fit(X,y) #fitting model to data\n",
    "print(LinReg.intercept_,LinReg.coef_)#to see intercept and coefficient to see perfomance"
   ]
  },
  {
   "cell_type": "markdown",
   "metadata": {},
   "source": [
    "###### Simple Algebra\n",
    "       y =mx +b\n",
    "       b = intercept = 265.79842088\n",
    "       \n",
    "       Estimated Coefficient = 5.99925157\n",
    "       "
   ]
  },
  {
   "cell_type": "markdown",
   "metadata": {},
   "source": [
    "#### Lets see how well our model performs.we call print fun and generate score of lin regression model"
   ]
  },
  {
   "cell_type": "code",
   "execution_count": 16,
   "metadata": {},
   "outputs": [
    {
     "name": "stdout",
     "output_type": "stream",
     "text": [
      "0.9974687679918453\n"
     ]
    }
   ],
   "source": [
    "print(LinReg.score(X,y)) #score function returns the coefficient of determination which is Rsquare of the prediction"
   ]
  },
  {
   "cell_type": "markdown",
   "metadata": {},
   "source": [
    "##### Our Linear Model is performing very well as Rsquare value is close to one ."
   ]
  }
 ],
 "metadata": {
  "kernelspec": {
   "display_name": "Python 3",
   "language": "python",
   "name": "python3"
  },
  "language_info": {
   "codemirror_mode": {
    "name": "ipython",
    "version": 3
   },
   "file_extension": ".py",
   "mimetype": "text/x-python",
   "name": "python",
   "nbconvert_exporter": "python",
   "pygments_lexer": "ipython3",
   "version": "3.7.6"
  }
 },
 "nbformat": 4,
 "nbformat_minor": 4
}
